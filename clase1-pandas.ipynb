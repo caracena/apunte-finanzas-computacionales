{
 "cells": [
  {
   "cell_type": "code",
   "execution_count": 7,
   "id": "136c9a66-03b6-464b-a734-1f9099b3f064",
   "metadata": {
    "tags": []
   },
   "outputs": [],
   "source": [
    "import pandas as pd"
   ]
  },
  {
   "cell_type": "markdown",
   "id": "e80ff6f5-ae6f-4ae4-861e-0aaf2e5075bf",
   "metadata": {},
   "source": [
    "# Cargar un archivo csv como df"
   ]
  },
  {
   "cell_type": "code",
   "execution_count": 8,
   "id": "40f57960-da6f-4148-8416-0fdacc7d37c6",
   "metadata": {},
   "outputs": [],
   "source": [
    "#df = pd.read_csv(\"consolidated_coin_data.csv\")\n",
    "df = pd.read_csv(\"consolidated_coin_data.csv\", thousands = \",\", decimal = \".\")"
   ]
  },
  {
   "cell_type": "markdown",
   "id": "2d4a73e7-41e4-497b-8bd6-8999471b953a",
   "metadata": {},
   "source": [
    "## Head\n",
    "\n",
    "El método `head()` permite llamar las primeras 10 filas del dataframe. El método `head(n)`, por su parte, permite llamar las primeras *n* filas."
   ]
  },
  {
   "cell_type": "code",
   "execution_count": 9,
   "id": "59237f98-257a-4e37-8ec7-f3f71ffe911c",
   "metadata": {
    "tags": []
   },
   "outputs": [
    {
     "data": {
      "text/html": [
       "<div>\n",
       "<style scoped>\n",
       "    .dataframe tbody tr th:only-of-type {\n",
       "        vertical-align: middle;\n",
       "    }\n",
       "\n",
       "    .dataframe tbody tr th {\n",
       "        vertical-align: top;\n",
       "    }\n",
       "\n",
       "    .dataframe thead th {\n",
       "        text-align: right;\n",
       "    }\n",
       "</style>\n",
       "<table border=\"1\" class=\"dataframe\">\n",
       "  <thead>\n",
       "    <tr style=\"text-align: right;\">\n",
       "      <th></th>\n",
       "      <th>Currency</th>\n",
       "      <th>Date</th>\n",
       "      <th>Open</th>\n",
       "      <th>High</th>\n",
       "      <th>Low</th>\n",
       "      <th>Close</th>\n",
       "      <th>Volume</th>\n",
       "      <th>Market Cap</th>\n",
       "    </tr>\n",
       "  </thead>\n",
       "  <tbody>\n",
       "    <tr>\n",
       "      <th>0</th>\n",
       "      <td>tezos</td>\n",
       "      <td>Dec 04, 2019</td>\n",
       "      <td>1.29</td>\n",
       "      <td>1.32</td>\n",
       "      <td>1.25</td>\n",
       "      <td>1.25</td>\n",
       "      <td>46048752.0</td>\n",
       "      <td>824588509</td>\n",
       "    </tr>\n",
       "    <tr>\n",
       "      <th>1</th>\n",
       "      <td>tezos</td>\n",
       "      <td>Dec 03, 2019</td>\n",
       "      <td>1.24</td>\n",
       "      <td>1.32</td>\n",
       "      <td>1.21</td>\n",
       "      <td>1.29</td>\n",
       "      <td>41462224.0</td>\n",
       "      <td>853213342</td>\n",
       "    </tr>\n",
       "    <tr>\n",
       "      <th>2</th>\n",
       "      <td>tezos</td>\n",
       "      <td>Dec 02, 2019</td>\n",
       "      <td>1.25</td>\n",
       "      <td>1.26</td>\n",
       "      <td>1.20</td>\n",
       "      <td>1.24</td>\n",
       "      <td>27574097.0</td>\n",
       "      <td>817872179</td>\n",
       "    </tr>\n",
       "    <tr>\n",
       "      <th>3</th>\n",
       "      <td>tezos</td>\n",
       "      <td>Dec 01, 2019</td>\n",
       "      <td>1.33</td>\n",
       "      <td>1.34</td>\n",
       "      <td>1.25</td>\n",
       "      <td>1.25</td>\n",
       "      <td>24127567.0</td>\n",
       "      <td>828296390</td>\n",
       "    </tr>\n",
       "    <tr>\n",
       "      <th>4</th>\n",
       "      <td>tezos</td>\n",
       "      <td>Nov 30, 2019</td>\n",
       "      <td>1.31</td>\n",
       "      <td>1.37</td>\n",
       "      <td>1.31</td>\n",
       "      <td>1.33</td>\n",
       "      <td>28706667.0</td>\n",
       "      <td>879181680</td>\n",
       "    </tr>\n",
       "  </tbody>\n",
       "</table>\n",
       "</div>"
      ],
      "text/plain": [
       "  Currency          Date  Open  High   Low  Close      Volume  Market Cap\n",
       "0    tezos  Dec 04, 2019  1.29  1.32  1.25   1.25  46048752.0   824588509\n",
       "1    tezos  Dec 03, 2019  1.24  1.32  1.21   1.29  41462224.0   853213342\n",
       "2    tezos  Dec 02, 2019  1.25  1.26  1.20   1.24  27574097.0   817872179\n",
       "3    tezos  Dec 01, 2019  1.33  1.34  1.25   1.25  24127567.0   828296390\n",
       "4    tezos  Nov 30, 2019  1.31  1.37  1.31   1.33  28706667.0   879181680"
      ]
     },
     "execution_count": 9,
     "metadata": {},
     "output_type": "execute_result"
    }
   ],
   "source": [
    "df.head()"
   ]
  },
  {
   "cell_type": "markdown",
   "id": "de85977a-cd57-4da9-b74a-da51fe6de4b5",
   "metadata": {},
   "source": [
    "## Tail\n",
    "\n",
    "El método `tail()` permite llamar las últimas 10 filas del dataframe. El método `tail(n)`, por su parte, permite llamar las últimas *n* filas."
   ]
  },
  {
   "cell_type": "code",
   "execution_count": 10,
   "id": "c1c35dde-a1a4-4495-a298-f0008b396c3d",
   "metadata": {
    "tags": []
   },
   "outputs": [
    {
     "data": {
      "text/html": [
       "<div>\n",
       "<style scoped>\n",
       "    .dataframe tbody tr th:only-of-type {\n",
       "        vertical-align: middle;\n",
       "    }\n",
       "\n",
       "    .dataframe tbody tr th {\n",
       "        vertical-align: top;\n",
       "    }\n",
       "\n",
       "    .dataframe thead th {\n",
       "        text-align: right;\n",
       "    }\n",
       "</style>\n",
       "<table border=\"1\" class=\"dataframe\">\n",
       "  <thead>\n",
       "    <tr style=\"text-align: right;\">\n",
       "      <th></th>\n",
       "      <th>Currency</th>\n",
       "      <th>Date</th>\n",
       "      <th>Open</th>\n",
       "      <th>High</th>\n",
       "      <th>Low</th>\n",
       "      <th>Close</th>\n",
       "      <th>Volume</th>\n",
       "      <th>Market Cap</th>\n",
       "    </tr>\n",
       "  </thead>\n",
       "  <tbody>\n",
       "    <tr>\n",
       "      <th>28939</th>\n",
       "      <td>bitcoin-sv</td>\n",
       "      <td>May 02, 2013</td>\n",
       "      <td>3.78</td>\n",
       "      <td>4.04</td>\n",
       "      <td>3.01</td>\n",
       "      <td>3.37</td>\n",
       "      <td>0.0</td>\n",
       "      <td>58287979</td>\n",
       "    </tr>\n",
       "    <tr>\n",
       "      <th>28940</th>\n",
       "      <td>bitcoin-sv</td>\n",
       "      <td>May 01, 2013</td>\n",
       "      <td>4.29</td>\n",
       "      <td>4.36</td>\n",
       "      <td>3.52</td>\n",
       "      <td>3.80</td>\n",
       "      <td>0.0</td>\n",
       "      <td>65604596</td>\n",
       "    </tr>\n",
       "    <tr>\n",
       "      <th>28941</th>\n",
       "      <td>bitcoin-sv</td>\n",
       "      <td>Apr 30, 2013</td>\n",
       "      <td>4.40</td>\n",
       "      <td>4.57</td>\n",
       "      <td>4.17</td>\n",
       "      <td>4.30</td>\n",
       "      <td>0.0</td>\n",
       "      <td>74020918</td>\n",
       "    </tr>\n",
       "    <tr>\n",
       "      <th>28942</th>\n",
       "      <td>bitcoin-sv</td>\n",
       "      <td>Apr 29, 2013</td>\n",
       "      <td>4.37</td>\n",
       "      <td>4.57</td>\n",
       "      <td>4.23</td>\n",
       "      <td>4.38</td>\n",
       "      <td>0.0</td>\n",
       "      <td>75388964</td>\n",
       "    </tr>\n",
       "    <tr>\n",
       "      <th>28943</th>\n",
       "      <td>bitcoin-sv</td>\n",
       "      <td>Apr 28, 2013</td>\n",
       "      <td>4.30</td>\n",
       "      <td>4.40</td>\n",
       "      <td>4.18</td>\n",
       "      <td>4.35</td>\n",
       "      <td>0.0</td>\n",
       "      <td>74636938</td>\n",
       "    </tr>\n",
       "  </tbody>\n",
       "</table>\n",
       "</div>"
      ],
      "text/plain": [
       "         Currency          Date  Open  High   Low  Close  Volume  Market Cap\n",
       "28939  bitcoin-sv  May 02, 2013  3.78  4.04  3.01   3.37     0.0    58287979\n",
       "28940  bitcoin-sv  May 01, 2013  4.29  4.36  3.52   3.80     0.0    65604596\n",
       "28941  bitcoin-sv  Apr 30, 2013  4.40  4.57  4.17   4.30     0.0    74020918\n",
       "28942  bitcoin-sv  Apr 29, 2013  4.37  4.57  4.23   4.38     0.0    75388964\n",
       "28943  bitcoin-sv  Apr 28, 2013  4.30  4.40  4.18   4.35     0.0    74636938"
      ]
     },
     "execution_count": 10,
     "metadata": {},
     "output_type": "execute_result"
    }
   ],
   "source": [
    "df.tail()"
   ]
  },
  {
   "cell_type": "markdown",
   "id": "ebc138ea-eaf9-4264-8e00-115ea9b551bf",
   "metadata": {
    "tags": []
   },
   "source": [
    "## Conocer el tipo de cada columna"
   ]
  },
  {
   "cell_type": "code",
   "execution_count": 11,
   "id": "c3a3130a-c824-4c71-a377-974189474015",
   "metadata": {
    "tags": []
   },
   "outputs": [
    {
     "data": {
      "text/plain": [
       "Currency       object\n",
       "Date           object\n",
       "Open          float64\n",
       "High          float64\n",
       "Low           float64\n",
       "Close         float64\n",
       "Volume        float64\n",
       "Market Cap      int64\n",
       "dtype: object"
      ]
     },
     "execution_count": 11,
     "metadata": {},
     "output_type": "execute_result"
    }
   ],
   "source": [
    "df.dtypes"
   ]
  },
  {
   "cell_type": "code",
   "execution_count": 12,
   "id": "278eec21-48ff-48ae-8a29-173ffe97531d",
   "metadata": {
    "tags": []
   },
   "outputs": [
    {
     "name": "stdout",
     "output_type": "stream",
     "text": [
      "<class 'pandas.core.frame.DataFrame'>\n",
      "RangeIndex: 28944 entries, 0 to 28943\n",
      "Data columns (total 8 columns):\n",
      " #   Column      Non-Null Count  Dtype  \n",
      "---  ------      --------------  -----  \n",
      " 0   Currency    28944 non-null  object \n",
      " 1   Date        28944 non-null  object \n",
      " 2   Open        28944 non-null  float64\n",
      " 3   High        28944 non-null  float64\n",
      " 4   Low         28944 non-null  float64\n",
      " 5   Close       28944 non-null  float64\n",
      " 6   Volume      28944 non-null  float64\n",
      " 7   Market Cap  28944 non-null  int64  \n",
      "dtypes: float64(5), int64(1), object(2)\n",
      "memory usage: 1.8+ MB\n"
     ]
    }
   ],
   "source": [
    "df.info()"
   ]
  },
  {
   "cell_type": "markdown",
   "id": "338d5c59-294c-42fe-8e79-19ea23115231",
   "metadata": {
    "tags": []
   },
   "source": [
    "## Convertir la columna Date en datetime"
   ]
  },
  {
   "cell_type": "code",
   "execution_count": 13,
   "id": "676d6213-1317-4500-9ec0-1e31d895aa77",
   "metadata": {
    "tags": []
   },
   "outputs": [],
   "source": [
    "df[\"Date\"] = pd.to_datetime(df[\"Date\"])"
   ]
  },
  {
   "cell_type": "code",
   "execution_count": 14,
   "id": "68e090ce-f37f-48ea-af06-5e2670e9396d",
   "metadata": {
    "tags": []
   },
   "outputs": [
    {
     "data": {
      "text/html": [
       "<div>\n",
       "<style scoped>\n",
       "    .dataframe tbody tr th:only-of-type {\n",
       "        vertical-align: middle;\n",
       "    }\n",
       "\n",
       "    .dataframe tbody tr th {\n",
       "        vertical-align: top;\n",
       "    }\n",
       "\n",
       "    .dataframe thead th {\n",
       "        text-align: right;\n",
       "    }\n",
       "</style>\n",
       "<table border=\"1\" class=\"dataframe\">\n",
       "  <thead>\n",
       "    <tr style=\"text-align: right;\">\n",
       "      <th></th>\n",
       "      <th>Currency</th>\n",
       "      <th>Date</th>\n",
       "      <th>Open</th>\n",
       "      <th>High</th>\n",
       "      <th>Low</th>\n",
       "      <th>Close</th>\n",
       "      <th>Volume</th>\n",
       "      <th>Market Cap</th>\n",
       "    </tr>\n",
       "  </thead>\n",
       "  <tbody>\n",
       "    <tr>\n",
       "      <th>0</th>\n",
       "      <td>tezos</td>\n",
       "      <td>2019-12-04</td>\n",
       "      <td>1.29</td>\n",
       "      <td>1.32</td>\n",
       "      <td>1.25</td>\n",
       "      <td>1.25</td>\n",
       "      <td>46048752.0</td>\n",
       "      <td>824588509</td>\n",
       "    </tr>\n",
       "    <tr>\n",
       "      <th>1</th>\n",
       "      <td>tezos</td>\n",
       "      <td>2019-12-03</td>\n",
       "      <td>1.24</td>\n",
       "      <td>1.32</td>\n",
       "      <td>1.21</td>\n",
       "      <td>1.29</td>\n",
       "      <td>41462224.0</td>\n",
       "      <td>853213342</td>\n",
       "    </tr>\n",
       "    <tr>\n",
       "      <th>2</th>\n",
       "      <td>tezos</td>\n",
       "      <td>2019-12-02</td>\n",
       "      <td>1.25</td>\n",
       "      <td>1.26</td>\n",
       "      <td>1.20</td>\n",
       "      <td>1.24</td>\n",
       "      <td>27574097.0</td>\n",
       "      <td>817872179</td>\n",
       "    </tr>\n",
       "    <tr>\n",
       "      <th>3</th>\n",
       "      <td>tezos</td>\n",
       "      <td>2019-12-01</td>\n",
       "      <td>1.33</td>\n",
       "      <td>1.34</td>\n",
       "      <td>1.25</td>\n",
       "      <td>1.25</td>\n",
       "      <td>24127567.0</td>\n",
       "      <td>828296390</td>\n",
       "    </tr>\n",
       "    <tr>\n",
       "      <th>4</th>\n",
       "      <td>tezos</td>\n",
       "      <td>2019-11-30</td>\n",
       "      <td>1.31</td>\n",
       "      <td>1.37</td>\n",
       "      <td>1.31</td>\n",
       "      <td>1.33</td>\n",
       "      <td>28706667.0</td>\n",
       "      <td>879181680</td>\n",
       "    </tr>\n",
       "  </tbody>\n",
       "</table>\n",
       "</div>"
      ],
      "text/plain": [
       "  Currency       Date  Open  High   Low  Close      Volume  Market Cap\n",
       "0    tezos 2019-12-04  1.29  1.32  1.25   1.25  46048752.0   824588509\n",
       "1    tezos 2019-12-03  1.24  1.32  1.21   1.29  41462224.0   853213342\n",
       "2    tezos 2019-12-02  1.25  1.26  1.20   1.24  27574097.0   817872179\n",
       "3    tezos 2019-12-01  1.33  1.34  1.25   1.25  24127567.0   828296390\n",
       "4    tezos 2019-11-30  1.31  1.37  1.31   1.33  28706667.0   879181680"
      ]
     },
     "execution_count": 14,
     "metadata": {},
     "output_type": "execute_result"
    }
   ],
   "source": [
    "df.head()"
   ]
  },
  {
   "cell_type": "code",
   "execution_count": 15,
   "id": "b827b5c9-391a-4302-ad04-311c235741f1",
   "metadata": {
    "tags": []
   },
   "outputs": [
    {
     "data": {
      "text/plain": [
       "Currency              object\n",
       "Date          datetime64[ns]\n",
       "Open                 float64\n",
       "High                 float64\n",
       "Low                  float64\n",
       "Close                float64\n",
       "Volume               float64\n",
       "Market Cap             int64\n",
       "dtype: object"
      ]
     },
     "execution_count": 15,
     "metadata": {},
     "output_type": "execute_result"
    }
   ],
   "source": [
    "df.dtypes"
   ]
  },
  {
   "cell_type": "markdown",
   "id": "c1fa0ba0-51e2-41cf-a380-58733386d377",
   "metadata": {},
   "source": [
    "## Describe\n",
    "El método `describe()` entrega estadística descriptiva de cada columna. Si, además, se incluye el parámetro `include = \"all\"`, entrega estadística descriptiva detallada."
   ]
  },
  {
   "cell_type": "code",
   "execution_count": 16,
   "id": "3c60fdbe-7b27-4f2d-9747-877a3ff9ba3e",
   "metadata": {
    "tags": []
   },
   "outputs": [
    {
     "data": {
      "text/html": [
       "<div>\n",
       "<style scoped>\n",
       "    .dataframe tbody tr th:only-of-type {\n",
       "        vertical-align: middle;\n",
       "    }\n",
       "\n",
       "    .dataframe tbody tr th {\n",
       "        vertical-align: top;\n",
       "    }\n",
       "\n",
       "    .dataframe thead th {\n",
       "        text-align: right;\n",
       "    }\n",
       "</style>\n",
       "<table border=\"1\" class=\"dataframe\">\n",
       "  <thead>\n",
       "    <tr style=\"text-align: right;\">\n",
       "      <th></th>\n",
       "      <th>Date</th>\n",
       "      <th>Open</th>\n",
       "      <th>High</th>\n",
       "      <th>Low</th>\n",
       "      <th>Close</th>\n",
       "      <th>Volume</th>\n",
       "      <th>Market Cap</th>\n",
       "    </tr>\n",
       "  </thead>\n",
       "  <tbody>\n",
       "    <tr>\n",
       "      <th>count</th>\n",
       "      <td>28944</td>\n",
       "      <td>28944.000000</td>\n",
       "      <td>28944.000000</td>\n",
       "      <td>28944.000000</td>\n",
       "      <td>28944.000000</td>\n",
       "      <td>2.894400e+04</td>\n",
       "      <td>2.894400e+04</td>\n",
       "    </tr>\n",
       "    <tr>\n",
       "      <th>mean</th>\n",
       "      <td>2016-08-15 11:58:36.417910528</td>\n",
       "      <td>300.719915</td>\n",
       "      <td>309.832983</td>\n",
       "      <td>290.858557</td>\n",
       "      <td>300.947534</td>\n",
       "      <td>8.133058e+08</td>\n",
       "      <td>7.194826e+09</td>\n",
       "    </tr>\n",
       "    <tr>\n",
       "      <th>min</th>\n",
       "      <td>2013-04-28 00:00:00</td>\n",
       "      <td>0.001352</td>\n",
       "      <td>0.001509</td>\n",
       "      <td>0.001227</td>\n",
       "      <td>0.001357</td>\n",
       "      <td>0.000000e+00</td>\n",
       "      <td>0.000000e+00</td>\n",
       "    </tr>\n",
       "    <tr>\n",
       "      <th>25%</th>\n",
       "      <td>2014-12-21 18:00:00</td>\n",
       "      <td>0.205108</td>\n",
       "      <td>0.212444</td>\n",
       "      <td>0.196527</td>\n",
       "      <td>0.205347</td>\n",
       "      <td>2.418700e+05</td>\n",
       "      <td>6.345143e+07</td>\n",
       "    </tr>\n",
       "    <tr>\n",
       "      <th>50%</th>\n",
       "      <td>2016-08-15 12:00:00</td>\n",
       "      <td>2.995000</td>\n",
       "      <td>3.090000</td>\n",
       "      <td>2.880000</td>\n",
       "      <td>2.980000</td>\n",
       "      <td>5.212684e+06</td>\n",
       "      <td>3.453673e+08</td>\n",
       "    </tr>\n",
       "    <tr>\n",
       "      <th>75%</th>\n",
       "      <td>2018-04-10 06:00:00</td>\n",
       "      <td>24.430000</td>\n",
       "      <td>25.530000</td>\n",
       "      <td>23.270000</td>\n",
       "      <td>24.430000</td>\n",
       "      <td>1.554764e+08</td>\n",
       "      <td>3.422403e+09</td>\n",
       "    </tr>\n",
       "    <tr>\n",
       "      <th>max</th>\n",
       "      <td>2019-12-04 00:00:00</td>\n",
       "      <td>19475.800000</td>\n",
       "      <td>20089.000000</td>\n",
       "      <td>18974.100000</td>\n",
       "      <td>19497.400000</td>\n",
       "      <td>5.350913e+10</td>\n",
       "      <td>3.265025e+11</td>\n",
       "    </tr>\n",
       "    <tr>\n",
       "      <th>std</th>\n",
       "      <td>NaN</td>\n",
       "      <td>1373.884681</td>\n",
       "      <td>1416.598573</td>\n",
       "      <td>1325.072633</td>\n",
       "      <td>1374.461221</td>\n",
       "      <td>3.059516e+09</td>\n",
       "      <td>2.469322e+10</td>\n",
       "    </tr>\n",
       "  </tbody>\n",
       "</table>\n",
       "</div>"
      ],
      "text/plain": [
       "                                Date          Open          High  \\\n",
       "count                          28944  28944.000000  28944.000000   \n",
       "mean   2016-08-15 11:58:36.417910528    300.719915    309.832983   \n",
       "min              2013-04-28 00:00:00      0.001352      0.001509   \n",
       "25%              2014-12-21 18:00:00      0.205108      0.212444   \n",
       "50%              2016-08-15 12:00:00      2.995000      3.090000   \n",
       "75%              2018-04-10 06:00:00     24.430000     25.530000   \n",
       "max              2019-12-04 00:00:00  19475.800000  20089.000000   \n",
       "std                              NaN   1373.884681   1416.598573   \n",
       "\n",
       "                Low         Close        Volume    Market Cap  \n",
       "count  28944.000000  28944.000000  2.894400e+04  2.894400e+04  \n",
       "mean     290.858557    300.947534  8.133058e+08  7.194826e+09  \n",
       "min        0.001227      0.001357  0.000000e+00  0.000000e+00  \n",
       "25%        0.196527      0.205347  2.418700e+05  6.345143e+07  \n",
       "50%        2.880000      2.980000  5.212684e+06  3.453673e+08  \n",
       "75%       23.270000     24.430000  1.554764e+08  3.422403e+09  \n",
       "max    18974.100000  19497.400000  5.350913e+10  3.265025e+11  \n",
       "std     1325.072633   1374.461221  3.059516e+09  2.469322e+10  "
      ]
     },
     "execution_count": 16,
     "metadata": {},
     "output_type": "execute_result"
    }
   ],
   "source": [
    "df.describe()"
   ]
  },
  {
   "cell_type": "code",
   "execution_count": 17,
   "id": "d3e69ce4-5912-4415-9f0b-30db22a6f100",
   "metadata": {
    "tags": []
   },
   "outputs": [
    {
     "data": {
      "text/html": [
       "<div>\n",
       "<style scoped>\n",
       "    .dataframe tbody tr th:only-of-type {\n",
       "        vertical-align: middle;\n",
       "    }\n",
       "\n",
       "    .dataframe tbody tr th {\n",
       "        vertical-align: top;\n",
       "    }\n",
       "\n",
       "    .dataframe thead th {\n",
       "        text-align: right;\n",
       "    }\n",
       "</style>\n",
       "<table border=\"1\" class=\"dataframe\">\n",
       "  <thead>\n",
       "    <tr style=\"text-align: right;\">\n",
       "      <th></th>\n",
       "      <th>Currency</th>\n",
       "      <th>Date</th>\n",
       "      <th>Open</th>\n",
       "      <th>High</th>\n",
       "      <th>Low</th>\n",
       "      <th>Close</th>\n",
       "      <th>Volume</th>\n",
       "      <th>Market Cap</th>\n",
       "    </tr>\n",
       "  </thead>\n",
       "  <tbody>\n",
       "    <tr>\n",
       "      <th>count</th>\n",
       "      <td>28944</td>\n",
       "      <td>28944</td>\n",
       "      <td>28944.000000</td>\n",
       "      <td>28944.000000</td>\n",
       "      <td>28944.000000</td>\n",
       "      <td>28944.000000</td>\n",
       "      <td>2.894400e+04</td>\n",
       "      <td>2.894400e+04</td>\n",
       "    </tr>\n",
       "    <tr>\n",
       "      <th>unique</th>\n",
       "      <td>12</td>\n",
       "      <td>NaN</td>\n",
       "      <td>NaN</td>\n",
       "      <td>NaN</td>\n",
       "      <td>NaN</td>\n",
       "      <td>NaN</td>\n",
       "      <td>NaN</td>\n",
       "      <td>NaN</td>\n",
       "    </tr>\n",
       "    <tr>\n",
       "      <th>top</th>\n",
       "      <td>tezos</td>\n",
       "      <td>NaN</td>\n",
       "      <td>NaN</td>\n",
       "      <td>NaN</td>\n",
       "      <td>NaN</td>\n",
       "      <td>NaN</td>\n",
       "      <td>NaN</td>\n",
       "      <td>NaN</td>\n",
       "    </tr>\n",
       "    <tr>\n",
       "      <th>freq</th>\n",
       "      <td>2412</td>\n",
       "      <td>NaN</td>\n",
       "      <td>NaN</td>\n",
       "      <td>NaN</td>\n",
       "      <td>NaN</td>\n",
       "      <td>NaN</td>\n",
       "      <td>NaN</td>\n",
       "      <td>NaN</td>\n",
       "    </tr>\n",
       "    <tr>\n",
       "      <th>mean</th>\n",
       "      <td>NaN</td>\n",
       "      <td>2016-08-15 11:58:36.417910528</td>\n",
       "      <td>300.719915</td>\n",
       "      <td>309.832983</td>\n",
       "      <td>290.858557</td>\n",
       "      <td>300.947534</td>\n",
       "      <td>8.133058e+08</td>\n",
       "      <td>7.194826e+09</td>\n",
       "    </tr>\n",
       "    <tr>\n",
       "      <th>min</th>\n",
       "      <td>NaN</td>\n",
       "      <td>2013-04-28 00:00:00</td>\n",
       "      <td>0.001352</td>\n",
       "      <td>0.001509</td>\n",
       "      <td>0.001227</td>\n",
       "      <td>0.001357</td>\n",
       "      <td>0.000000e+00</td>\n",
       "      <td>0.000000e+00</td>\n",
       "    </tr>\n",
       "    <tr>\n",
       "      <th>25%</th>\n",
       "      <td>NaN</td>\n",
       "      <td>2014-12-21 18:00:00</td>\n",
       "      <td>0.205108</td>\n",
       "      <td>0.212444</td>\n",
       "      <td>0.196527</td>\n",
       "      <td>0.205347</td>\n",
       "      <td>2.418700e+05</td>\n",
       "      <td>6.345143e+07</td>\n",
       "    </tr>\n",
       "    <tr>\n",
       "      <th>50%</th>\n",
       "      <td>NaN</td>\n",
       "      <td>2016-08-15 12:00:00</td>\n",
       "      <td>2.995000</td>\n",
       "      <td>3.090000</td>\n",
       "      <td>2.880000</td>\n",
       "      <td>2.980000</td>\n",
       "      <td>5.212684e+06</td>\n",
       "      <td>3.453673e+08</td>\n",
       "    </tr>\n",
       "    <tr>\n",
       "      <th>75%</th>\n",
       "      <td>NaN</td>\n",
       "      <td>2018-04-10 06:00:00</td>\n",
       "      <td>24.430000</td>\n",
       "      <td>25.530000</td>\n",
       "      <td>23.270000</td>\n",
       "      <td>24.430000</td>\n",
       "      <td>1.554764e+08</td>\n",
       "      <td>3.422403e+09</td>\n",
       "    </tr>\n",
       "    <tr>\n",
       "      <th>max</th>\n",
       "      <td>NaN</td>\n",
       "      <td>2019-12-04 00:00:00</td>\n",
       "      <td>19475.800000</td>\n",
       "      <td>20089.000000</td>\n",
       "      <td>18974.100000</td>\n",
       "      <td>19497.400000</td>\n",
       "      <td>5.350913e+10</td>\n",
       "      <td>3.265025e+11</td>\n",
       "    </tr>\n",
       "    <tr>\n",
       "      <th>std</th>\n",
       "      <td>NaN</td>\n",
       "      <td>NaN</td>\n",
       "      <td>1373.884681</td>\n",
       "      <td>1416.598573</td>\n",
       "      <td>1325.072633</td>\n",
       "      <td>1374.461221</td>\n",
       "      <td>3.059516e+09</td>\n",
       "      <td>2.469322e+10</td>\n",
       "    </tr>\n",
       "  </tbody>\n",
       "</table>\n",
       "</div>"
      ],
      "text/plain": [
       "       Currency                           Date          Open          High  \\\n",
       "count     28944                          28944  28944.000000  28944.000000   \n",
       "unique       12                            NaN           NaN           NaN   \n",
       "top       tezos                            NaN           NaN           NaN   \n",
       "freq       2412                            NaN           NaN           NaN   \n",
       "mean        NaN  2016-08-15 11:58:36.417910528    300.719915    309.832983   \n",
       "min         NaN            2013-04-28 00:00:00      0.001352      0.001509   \n",
       "25%         NaN            2014-12-21 18:00:00      0.205108      0.212444   \n",
       "50%         NaN            2016-08-15 12:00:00      2.995000      3.090000   \n",
       "75%         NaN            2018-04-10 06:00:00     24.430000     25.530000   \n",
       "max         NaN            2019-12-04 00:00:00  19475.800000  20089.000000   \n",
       "std         NaN                            NaN   1373.884681   1416.598573   \n",
       "\n",
       "                 Low         Close        Volume    Market Cap  \n",
       "count   28944.000000  28944.000000  2.894400e+04  2.894400e+04  \n",
       "unique           NaN           NaN           NaN           NaN  \n",
       "top              NaN           NaN           NaN           NaN  \n",
       "freq             NaN           NaN           NaN           NaN  \n",
       "mean      290.858557    300.947534  8.133058e+08  7.194826e+09  \n",
       "min         0.001227      0.001357  0.000000e+00  0.000000e+00  \n",
       "25%         0.196527      0.205347  2.418700e+05  6.345143e+07  \n",
       "50%         2.880000      2.980000  5.212684e+06  3.453673e+08  \n",
       "75%        23.270000     24.430000  1.554764e+08  3.422403e+09  \n",
       "max     18974.100000  19497.400000  5.350913e+10  3.265025e+11  \n",
       "std      1325.072633   1374.461221  3.059516e+09  2.469322e+10  "
      ]
     },
     "execution_count": 17,
     "metadata": {},
     "output_type": "execute_result"
    }
   ],
   "source": [
    "df.describe(include=\"all\")"
   ]
  },
  {
   "cell_type": "markdown",
   "id": "169bc02a-dcc3-471b-b6d1-ebf56b26bbd0",
   "metadata": {},
   "source": [
    "## Seleccionar solo columnas `Currency`, `Date`, `Close` y `Volume`"
   ]
  },
  {
   "cell_type": "code",
   "execution_count": 18,
   "id": "2ef52fad-03c2-4fbb-9929-622a1f568197",
   "metadata": {
    "tags": []
   },
   "outputs": [
    {
     "data": {
      "text/html": [
       "<div>\n",
       "<style scoped>\n",
       "    .dataframe tbody tr th:only-of-type {\n",
       "        vertical-align: middle;\n",
       "    }\n",
       "\n",
       "    .dataframe tbody tr th {\n",
       "        vertical-align: top;\n",
       "    }\n",
       "\n",
       "    .dataframe thead th {\n",
       "        text-align: right;\n",
       "    }\n",
       "</style>\n",
       "<table border=\"1\" class=\"dataframe\">\n",
       "  <thead>\n",
       "    <tr style=\"text-align: right;\">\n",
       "      <th></th>\n",
       "      <th>Currency</th>\n",
       "      <th>Date</th>\n",
       "      <th>Close</th>\n",
       "      <th>Volume</th>\n",
       "    </tr>\n",
       "  </thead>\n",
       "  <tbody>\n",
       "    <tr>\n",
       "      <th>0</th>\n",
       "      <td>tezos</td>\n",
       "      <td>2019-12-04</td>\n",
       "      <td>1.25</td>\n",
       "      <td>46048752.0</td>\n",
       "    </tr>\n",
       "    <tr>\n",
       "      <th>1</th>\n",
       "      <td>tezos</td>\n",
       "      <td>2019-12-03</td>\n",
       "      <td>1.29</td>\n",
       "      <td>41462224.0</td>\n",
       "    </tr>\n",
       "    <tr>\n",
       "      <th>2</th>\n",
       "      <td>tezos</td>\n",
       "      <td>2019-12-02</td>\n",
       "      <td>1.24</td>\n",
       "      <td>27574097.0</td>\n",
       "    </tr>\n",
       "    <tr>\n",
       "      <th>3</th>\n",
       "      <td>tezos</td>\n",
       "      <td>2019-12-01</td>\n",
       "      <td>1.25</td>\n",
       "      <td>24127567.0</td>\n",
       "    </tr>\n",
       "    <tr>\n",
       "      <th>4</th>\n",
       "      <td>tezos</td>\n",
       "      <td>2019-11-30</td>\n",
       "      <td>1.33</td>\n",
       "      <td>28706667.0</td>\n",
       "    </tr>\n",
       "    <tr>\n",
       "      <th>...</th>\n",
       "      <td>...</td>\n",
       "      <td>...</td>\n",
       "      <td>...</td>\n",
       "      <td>...</td>\n",
       "    </tr>\n",
       "    <tr>\n",
       "      <th>28939</th>\n",
       "      <td>bitcoin-sv</td>\n",
       "      <td>2013-05-02</td>\n",
       "      <td>3.37</td>\n",
       "      <td>0.0</td>\n",
       "    </tr>\n",
       "    <tr>\n",
       "      <th>28940</th>\n",
       "      <td>bitcoin-sv</td>\n",
       "      <td>2013-05-01</td>\n",
       "      <td>3.80</td>\n",
       "      <td>0.0</td>\n",
       "    </tr>\n",
       "    <tr>\n",
       "      <th>28941</th>\n",
       "      <td>bitcoin-sv</td>\n",
       "      <td>2013-04-30</td>\n",
       "      <td>4.30</td>\n",
       "      <td>0.0</td>\n",
       "    </tr>\n",
       "    <tr>\n",
       "      <th>28942</th>\n",
       "      <td>bitcoin-sv</td>\n",
       "      <td>2013-04-29</td>\n",
       "      <td>4.38</td>\n",
       "      <td>0.0</td>\n",
       "    </tr>\n",
       "    <tr>\n",
       "      <th>28943</th>\n",
       "      <td>bitcoin-sv</td>\n",
       "      <td>2013-04-28</td>\n",
       "      <td>4.35</td>\n",
       "      <td>0.0</td>\n",
       "    </tr>\n",
       "  </tbody>\n",
       "</table>\n",
       "<p>28944 rows × 4 columns</p>\n",
       "</div>"
      ],
      "text/plain": [
       "         Currency       Date  Close      Volume\n",
       "0           tezos 2019-12-04   1.25  46048752.0\n",
       "1           tezos 2019-12-03   1.29  41462224.0\n",
       "2           tezos 2019-12-02   1.24  27574097.0\n",
       "3           tezos 2019-12-01   1.25  24127567.0\n",
       "4           tezos 2019-11-30   1.33  28706667.0\n",
       "...           ...        ...    ...         ...\n",
       "28939  bitcoin-sv 2013-05-02   3.37         0.0\n",
       "28940  bitcoin-sv 2013-05-01   3.80         0.0\n",
       "28941  bitcoin-sv 2013-04-30   4.30         0.0\n",
       "28942  bitcoin-sv 2013-04-29   4.38         0.0\n",
       "28943  bitcoin-sv 2013-04-28   4.35         0.0\n",
       "\n",
       "[28944 rows x 4 columns]"
      ]
     },
     "execution_count": 18,
     "metadata": {},
     "output_type": "execute_result"
    }
   ],
   "source": [
    "df_2 = df[[\"Currency\", \"Date\", \"Close\", \"Volume\"]]\n",
    "df_2"
   ]
  },
  {
   "cell_type": "markdown",
   "id": "e6f7ecf7-20d9-4c01-b6e3-d18bc9fe839b",
   "metadata": {},
   "source": [
    "## Cuenta la cantidad de criptomonedas del dataframe"
   ]
  },
  {
   "cell_type": "code",
   "execution_count": 19,
   "id": "42a2882f-abc3-4e6f-b0df-a726b2005b93",
   "metadata": {
    "tags": []
   },
   "outputs": [
    {
     "data": {
      "text/plain": [
       "Currency\n",
       "tezos           2412\n",
       "binance-coin    2412\n",
       "eos             2412\n",
       "bitcoin         2412\n",
       "tether          2412\n",
       "xrp             2412\n",
       "bitcoin-cash    2412\n",
       "stellar         2412\n",
       "litecoin        2412\n",
       "ethereum        2412\n",
       "cardano         2412\n",
       "bitcoin-sv      2412\n",
       "Name: count, dtype: int64"
      ]
     },
     "execution_count": 19,
     "metadata": {},
     "output_type": "execute_result"
    }
   ],
   "source": [
    "df_2[\"Currency\"].value_counts()"
   ]
  },
  {
   "cell_type": "markdown",
   "id": "1e4809e7-0678-4892-a57d-98db55d72cf1",
   "metadata": {
    "tags": []
   },
   "source": [
    "## Crea un dataframe con precios de cierre y fecha de bitcoin, otro con xrp, y otro con ethereum"
   ]
  },
  {
   "cell_type": "code",
   "execution_count": 20,
   "id": "2850fece-7c2e-46ad-91ae-8d995c75d78b",
   "metadata": {
    "tags": []
   },
   "outputs": [],
   "source": [
    "df_temp = df_2.drop(columns = [\"Volume\"])\n",
    "\n",
    "df_bitcoin = df_temp.query('Currency == \"bitcoin\"')\n",
    "df_xrp = df_temp.query('Currency == \"xrp\"')\n",
    "df_ethereum = df_temp.query('Currency == \"ethereum\"')"
   ]
  },
  {
   "cell_type": "code",
   "execution_count": 21,
   "id": "be0f8edd-5f94-4436-b3a7-485490a96440",
   "metadata": {
    "tags": []
   },
   "outputs": [
    {
     "data": {
      "text/html": [
       "<div>\n",
       "<style scoped>\n",
       "    .dataframe tbody tr th:only-of-type {\n",
       "        vertical-align: middle;\n",
       "    }\n",
       "\n",
       "    .dataframe tbody tr th {\n",
       "        vertical-align: top;\n",
       "    }\n",
       "\n",
       "    .dataframe thead th {\n",
       "        text-align: right;\n",
       "    }\n",
       "</style>\n",
       "<table border=\"1\" class=\"dataframe\">\n",
       "  <thead>\n",
       "    <tr style=\"text-align: right;\">\n",
       "      <th></th>\n",
       "      <th>Currency</th>\n",
       "      <th>Date</th>\n",
       "      <th>Close</th>\n",
       "    </tr>\n",
       "  </thead>\n",
       "  <tbody>\n",
       "    <tr>\n",
       "      <th>21708</th>\n",
       "      <td>ethereum</td>\n",
       "      <td>2019-12-04</td>\n",
       "      <td>146.75</td>\n",
       "    </tr>\n",
       "    <tr>\n",
       "      <th>21709</th>\n",
       "      <td>ethereum</td>\n",
       "      <td>2019-12-03</td>\n",
       "      <td>147.96</td>\n",
       "    </tr>\n",
       "    <tr>\n",
       "      <th>21710</th>\n",
       "      <td>ethereum</td>\n",
       "      <td>2019-12-02</td>\n",
       "      <td>149.06</td>\n",
       "    </tr>\n",
       "    <tr>\n",
       "      <th>21711</th>\n",
       "      <td>ethereum</td>\n",
       "      <td>2019-12-01</td>\n",
       "      <td>151.19</td>\n",
       "    </tr>\n",
       "    <tr>\n",
       "      <th>21712</th>\n",
       "      <td>ethereum</td>\n",
       "      <td>2019-11-30</td>\n",
       "      <td>152.54</td>\n",
       "    </tr>\n",
       "  </tbody>\n",
       "</table>\n",
       "</div>"
      ],
      "text/plain": [
       "       Currency       Date   Close\n",
       "21708  ethereum 2019-12-04  146.75\n",
       "21709  ethereum 2019-12-03  147.96\n",
       "21710  ethereum 2019-12-02  149.06\n",
       "21711  ethereum 2019-12-01  151.19\n",
       "21712  ethereum 2019-11-30  152.54"
      ]
     },
     "execution_count": 21,
     "metadata": {},
     "output_type": "execute_result"
    }
   ],
   "source": [
    "df_ethereum.head()"
   ]
  },
  {
   "cell_type": "markdown",
   "id": "9177a2f0-8ae6-4043-a13b-e243d873d44a",
   "metadata": {},
   "source": [
    "También se puede filtrar directamente dentro del df:"
   ]
  },
  {
   "cell_type": "code",
   "execution_count": 22,
   "id": "76716943-9fbb-4b2a-80d7-fde20102f29c",
   "metadata": {
    "tags": []
   },
   "outputs": [
    {
     "data": {
      "text/html": [
       "<div>\n",
       "<style scoped>\n",
       "    .dataframe tbody tr th:only-of-type {\n",
       "        vertical-align: middle;\n",
       "    }\n",
       "\n",
       "    .dataframe tbody tr th {\n",
       "        vertical-align: top;\n",
       "    }\n",
       "\n",
       "    .dataframe thead th {\n",
       "        text-align: right;\n",
       "    }\n",
       "</style>\n",
       "<table border=\"1\" class=\"dataframe\">\n",
       "  <thead>\n",
       "    <tr style=\"text-align: right;\">\n",
       "      <th></th>\n",
       "      <th>Currency</th>\n",
       "      <th>Date</th>\n",
       "      <th>Close</th>\n",
       "    </tr>\n",
       "  </thead>\n",
       "  <tbody>\n",
       "    <tr>\n",
       "      <th>7236</th>\n",
       "      <td>bitcoin</td>\n",
       "      <td>2019-12-04</td>\n",
       "      <td>7252.03</td>\n",
       "    </tr>\n",
       "    <tr>\n",
       "      <th>7237</th>\n",
       "      <td>bitcoin</td>\n",
       "      <td>2019-12-03</td>\n",
       "      <td>7320.15</td>\n",
       "    </tr>\n",
       "    <tr>\n",
       "      <th>7238</th>\n",
       "      <td>bitcoin</td>\n",
       "      <td>2019-12-02</td>\n",
       "      <td>7321.99</td>\n",
       "    </tr>\n",
       "    <tr>\n",
       "      <th>7239</th>\n",
       "      <td>bitcoin</td>\n",
       "      <td>2019-12-01</td>\n",
       "      <td>7424.29</td>\n",
       "    </tr>\n",
       "    <tr>\n",
       "      <th>7240</th>\n",
       "      <td>bitcoin</td>\n",
       "      <td>2019-11-30</td>\n",
       "      <td>7569.63</td>\n",
       "    </tr>\n",
       "  </tbody>\n",
       "</table>\n",
       "</div>"
      ],
      "text/plain": [
       "     Currency       Date    Close\n",
       "7236  bitcoin 2019-12-04  7252.03\n",
       "7237  bitcoin 2019-12-03  7320.15\n",
       "7238  bitcoin 2019-12-02  7321.99\n",
       "7239  bitcoin 2019-12-01  7424.29\n",
       "7240  bitcoin 2019-11-30  7569.63"
      ]
     },
     "execution_count": 22,
     "metadata": {},
     "output_type": "execute_result"
    }
   ],
   "source": [
    "df_bitcoin_2 = df_temp[df_temp[\"Currency\"]==\"bitcoin\"]\n",
    "df_bitcoin_2.head()"
   ]
  },
  {
   "cell_type": "markdown",
   "id": "b21eb7fa-5a9c-4868-a254-0631dee71115",
   "metadata": {},
   "source": [
    "## En cada dataframe creado, cambie el nombre de la columna de `Close` al nombre de la criptomoneda asociada al df. Luego, solo deje Fecha y precio de cierre."
   ]
  },
  {
   "cell_type": "code",
   "execution_count": 23,
   "id": "50f2c5e1-2f62-47bc-ad33-593563f2c159",
   "metadata": {
    "tags": []
   },
   "outputs": [],
   "source": [
    "df_bitcoin = df_bitcoin.rename(columns = {\"Close\":\"bitcoin\"})\n",
    "df_bitcoin = df_bitcoin.drop(columns = [\"Currency\"])\n",
    "\n",
    "df_xrp = df_xrp.rename(columns = {\"Close\":\"xrp\"})\n",
    "df_xrp = df_xrp.drop(columns = [\"Currency\"])\n",
    "\n",
    "df_ethereum = df_ethereum.rename(columns = {\"Close\":\"ethereum\"})\n",
    "df_ethereum = df_ethereum.drop(columns = [\"Currency\"])"
   ]
  },
  {
   "cell_type": "code",
   "execution_count": 24,
   "id": "5509de84-ecb4-4874-aeb7-ee25a065ecd9",
   "metadata": {
    "tags": []
   },
   "outputs": [
    {
     "data": {
      "text/html": [
       "<div>\n",
       "<style scoped>\n",
       "    .dataframe tbody tr th:only-of-type {\n",
       "        vertical-align: middle;\n",
       "    }\n",
       "\n",
       "    .dataframe tbody tr th {\n",
       "        vertical-align: top;\n",
       "    }\n",
       "\n",
       "    .dataframe thead th {\n",
       "        text-align: right;\n",
       "    }\n",
       "</style>\n",
       "<table border=\"1\" class=\"dataframe\">\n",
       "  <thead>\n",
       "    <tr style=\"text-align: right;\">\n",
       "      <th></th>\n",
       "      <th>Date</th>\n",
       "      <th>xrp</th>\n",
       "    </tr>\n",
       "  </thead>\n",
       "  <tbody>\n",
       "    <tr>\n",
       "      <th>12060</th>\n",
       "      <td>2019-12-04</td>\n",
       "      <td>0.216348</td>\n",
       "    </tr>\n",
       "    <tr>\n",
       "      <th>12061</th>\n",
       "      <td>2019-12-03</td>\n",
       "      <td>0.219870</td>\n",
       "    </tr>\n",
       "    <tr>\n",
       "      <th>12062</th>\n",
       "      <td>2019-12-02</td>\n",
       "      <td>0.219581</td>\n",
       "    </tr>\n",
       "    <tr>\n",
       "      <th>12063</th>\n",
       "      <td>2019-12-01</td>\n",
       "      <td>0.225333</td>\n",
       "    </tr>\n",
       "    <tr>\n",
       "      <th>12064</th>\n",
       "      <td>2019-11-30</td>\n",
       "      <td>0.226474</td>\n",
       "    </tr>\n",
       "  </tbody>\n",
       "</table>\n",
       "</div>"
      ],
      "text/plain": [
       "            Date       xrp\n",
       "12060 2019-12-04  0.216348\n",
       "12061 2019-12-03  0.219870\n",
       "12062 2019-12-02  0.219581\n",
       "12063 2019-12-01  0.225333\n",
       "12064 2019-11-30  0.226474"
      ]
     },
     "execution_count": 24,
     "metadata": {},
     "output_type": "execute_result"
    }
   ],
   "source": [
    "df_xrp.head()"
   ]
  },
  {
   "cell_type": "markdown",
   "id": "0aa84ffb-f96c-4493-9f31-310c5adfcce5",
   "metadata": {
    "tags": []
   },
   "source": [
    "## Una los tres df en uno solo."
   ]
  },
  {
   "cell_type": "code",
   "execution_count": 25,
   "id": "ab9faafa-085f-454a-93f8-8969db25a33f",
   "metadata": {
    "tags": []
   },
   "outputs": [
    {
     "data": {
      "text/html": [
       "<div>\n",
       "<style scoped>\n",
       "    .dataframe tbody tr th:only-of-type {\n",
       "        vertical-align: middle;\n",
       "    }\n",
       "\n",
       "    .dataframe tbody tr th {\n",
       "        vertical-align: top;\n",
       "    }\n",
       "\n",
       "    .dataframe thead th {\n",
       "        text-align: right;\n",
       "    }\n",
       "</style>\n",
       "<table border=\"1\" class=\"dataframe\">\n",
       "  <thead>\n",
       "    <tr style=\"text-align: right;\">\n",
       "      <th></th>\n",
       "      <th>Date</th>\n",
       "      <th>bitcoin</th>\n",
       "      <th>xrp</th>\n",
       "    </tr>\n",
       "  </thead>\n",
       "  <tbody>\n",
       "    <tr>\n",
       "      <th>0</th>\n",
       "      <td>2019-12-04</td>\n",
       "      <td>7252.03</td>\n",
       "      <td>0.216348</td>\n",
       "    </tr>\n",
       "    <tr>\n",
       "      <th>1</th>\n",
       "      <td>2019-12-03</td>\n",
       "      <td>7320.15</td>\n",
       "      <td>0.219870</td>\n",
       "    </tr>\n",
       "    <tr>\n",
       "      <th>2</th>\n",
       "      <td>2019-12-02</td>\n",
       "      <td>7321.99</td>\n",
       "      <td>0.219581</td>\n",
       "    </tr>\n",
       "    <tr>\n",
       "      <th>3</th>\n",
       "      <td>2019-12-01</td>\n",
       "      <td>7424.29</td>\n",
       "      <td>0.225333</td>\n",
       "    </tr>\n",
       "    <tr>\n",
       "      <th>4</th>\n",
       "      <td>2019-11-30</td>\n",
       "      <td>7569.63</td>\n",
       "      <td>0.226474</td>\n",
       "    </tr>\n",
       "    <tr>\n",
       "      <th>...</th>\n",
       "      <td>...</td>\n",
       "      <td>...</td>\n",
       "      <td>...</td>\n",
       "    </tr>\n",
       "    <tr>\n",
       "      <th>2407</th>\n",
       "      <td>2013-05-02</td>\n",
       "      <td>105.21</td>\n",
       "      <td>105.210000</td>\n",
       "    </tr>\n",
       "    <tr>\n",
       "      <th>2408</th>\n",
       "      <td>2013-05-01</td>\n",
       "      <td>116.99</td>\n",
       "      <td>116.990000</td>\n",
       "    </tr>\n",
       "    <tr>\n",
       "      <th>2409</th>\n",
       "      <td>2013-04-30</td>\n",
       "      <td>139.00</td>\n",
       "      <td>139.000000</td>\n",
       "    </tr>\n",
       "    <tr>\n",
       "      <th>2410</th>\n",
       "      <td>2013-04-29</td>\n",
       "      <td>144.54</td>\n",
       "      <td>144.540000</td>\n",
       "    </tr>\n",
       "    <tr>\n",
       "      <th>2411</th>\n",
       "      <td>2013-04-28</td>\n",
       "      <td>134.21</td>\n",
       "      <td>134.210000</td>\n",
       "    </tr>\n",
       "  </tbody>\n",
       "</table>\n",
       "<p>2412 rows × 3 columns</p>\n",
       "</div>"
      ],
      "text/plain": [
       "           Date  bitcoin         xrp\n",
       "0    2019-12-04  7252.03    0.216348\n",
       "1    2019-12-03  7320.15    0.219870\n",
       "2    2019-12-02  7321.99    0.219581\n",
       "3    2019-12-01  7424.29    0.225333\n",
       "4    2019-11-30  7569.63    0.226474\n",
       "...         ...      ...         ...\n",
       "2407 2013-05-02   105.21  105.210000\n",
       "2408 2013-05-01   116.99  116.990000\n",
       "2409 2013-04-30   139.00  139.000000\n",
       "2410 2013-04-29   144.54  144.540000\n",
       "2411 2013-04-28   134.21  134.210000\n",
       "\n",
       "[2412 rows x 3 columns]"
      ]
     },
     "execution_count": 25,
     "metadata": {},
     "output_type": "execute_result"
    }
   ],
   "source": [
    "df_merge = pd.merge(df_bitcoin, df_xrp, how = \"left\", on = \"Date\")\n",
    "df_merge"
   ]
  },
  {
   "cell_type": "code",
   "execution_count": 28,
   "id": "66bfde13-8415-4cef-8c2e-35699f541d58",
   "metadata": {
    "tags": []
   },
   "outputs": [
    {
     "data": {
      "text/html": [
       "<div>\n",
       "<style scoped>\n",
       "    .dataframe tbody tr th:only-of-type {\n",
       "        vertical-align: middle;\n",
       "    }\n",
       "\n",
       "    .dataframe tbody tr th {\n",
       "        vertical-align: top;\n",
       "    }\n",
       "\n",
       "    .dataframe thead th {\n",
       "        text-align: right;\n",
       "    }\n",
       "</style>\n",
       "<table border=\"1\" class=\"dataframe\">\n",
       "  <thead>\n",
       "    <tr style=\"text-align: right;\">\n",
       "      <th></th>\n",
       "      <th>Date</th>\n",
       "      <th>bitcoin</th>\n",
       "      <th>xrp</th>\n",
       "      <th>ethereum</th>\n",
       "    </tr>\n",
       "  </thead>\n",
       "  <tbody>\n",
       "    <tr>\n",
       "      <th>0</th>\n",
       "      <td>2019-12-04</td>\n",
       "      <td>7252.03</td>\n",
       "      <td>0.216348</td>\n",
       "      <td>146.75</td>\n",
       "    </tr>\n",
       "    <tr>\n",
       "      <th>1</th>\n",
       "      <td>2019-12-03</td>\n",
       "      <td>7320.15</td>\n",
       "      <td>0.219870</td>\n",
       "      <td>147.96</td>\n",
       "    </tr>\n",
       "    <tr>\n",
       "      <th>2</th>\n",
       "      <td>2019-12-02</td>\n",
       "      <td>7321.99</td>\n",
       "      <td>0.219581</td>\n",
       "      <td>149.06</td>\n",
       "    </tr>\n",
       "    <tr>\n",
       "      <th>3</th>\n",
       "      <td>2019-12-01</td>\n",
       "      <td>7424.29</td>\n",
       "      <td>0.225333</td>\n",
       "      <td>151.19</td>\n",
       "    </tr>\n",
       "    <tr>\n",
       "      <th>4</th>\n",
       "      <td>2019-11-30</td>\n",
       "      <td>7569.63</td>\n",
       "      <td>0.226474</td>\n",
       "      <td>152.54</td>\n",
       "    </tr>\n",
       "  </tbody>\n",
       "</table>\n",
       "</div>"
      ],
      "text/plain": [
       "        Date  bitcoin       xrp  ethereum\n",
       "0 2019-12-04  7252.03  0.216348    146.75\n",
       "1 2019-12-03  7320.15  0.219870    147.96\n",
       "2 2019-12-02  7321.99  0.219581    149.06\n",
       "3 2019-12-01  7424.29  0.225333    151.19\n",
       "4 2019-11-30  7569.63  0.226474    152.54"
      ]
     },
     "execution_count": 28,
     "metadata": {},
     "output_type": "execute_result"
    }
   ],
   "source": [
    "df_merge = pd.merge(df_merge, df_ethereum, how = \"left\", on = \"Date\")\n",
    "df_merge.head()"
   ]
  },
  {
   "cell_type": "markdown",
   "id": "630ed142-cb12-4441-9495-be281be7aa86",
   "metadata": {},
   "source": [
    "## Haga un `describe()` al df y explique las principales características de los datos."
   ]
  },
  {
   "cell_type": "code",
   "execution_count": 29,
   "id": "5095179f-586c-4d90-9a8e-d2fbdb8a9b10",
   "metadata": {
    "tags": []
   },
   "outputs": [
    {
     "data": {
      "text/html": [
       "<div>\n",
       "<style scoped>\n",
       "    .dataframe tbody tr th:only-of-type {\n",
       "        vertical-align: middle;\n",
       "    }\n",
       "\n",
       "    .dataframe tbody tr th {\n",
       "        vertical-align: top;\n",
       "    }\n",
       "\n",
       "    .dataframe thead th {\n",
       "        text-align: right;\n",
       "    }\n",
       "</style>\n",
       "<table border=\"1\" class=\"dataframe\">\n",
       "  <thead>\n",
       "    <tr style=\"text-align: right;\">\n",
       "      <th></th>\n",
       "      <th>Date</th>\n",
       "      <th>bitcoin</th>\n",
       "      <th>xrp</th>\n",
       "      <th>ethereum</th>\n",
       "    </tr>\n",
       "  </thead>\n",
       "  <tbody>\n",
       "    <tr>\n",
       "      <th>count</th>\n",
       "      <td>2412</td>\n",
       "      <td>2412.000000</td>\n",
       "      <td>2412.000000</td>\n",
       "      <td>2412.000000</td>\n",
       "    </tr>\n",
       "    <tr>\n",
       "      <th>mean</th>\n",
       "      <td>2016-08-15 12:00:00</td>\n",
       "      <td>3023.498777</td>\n",
       "      <td>4.529477</td>\n",
       "      <td>263.434610</td>\n",
       "    </tr>\n",
       "    <tr>\n",
       "      <th>min</th>\n",
       "      <td>2013-04-28 00:00:00</td>\n",
       "      <td>68.430000</td>\n",
       "      <td>0.002810</td>\n",
       "      <td>0.434829</td>\n",
       "    </tr>\n",
       "    <tr>\n",
       "      <th>25%</th>\n",
       "      <td>2014-12-21 18:00:00</td>\n",
       "      <td>375.312500</td>\n",
       "      <td>0.006636</td>\n",
       "      <td>46.335000</td>\n",
       "    </tr>\n",
       "    <tr>\n",
       "      <th>50%</th>\n",
       "      <td>2016-08-15 12:00:00</td>\n",
       "      <td>701.945000</td>\n",
       "      <td>0.015880</td>\n",
       "      <td>211.345000</td>\n",
       "    </tr>\n",
       "    <tr>\n",
       "      <th>75%</th>\n",
       "      <td>2018-04-10 06:00:00</td>\n",
       "      <td>5756.890000</td>\n",
       "      <td>0.316083</td>\n",
       "      <td>378.157500</td>\n",
       "    </tr>\n",
       "    <tr>\n",
       "      <th>max</th>\n",
       "      <td>2019-12-04 00:00:00</td>\n",
       "      <td>19497.400000</td>\n",
       "      <td>144.540000</td>\n",
       "      <td>1396.420000</td>\n",
       "    </tr>\n",
       "    <tr>\n",
       "      <th>std</th>\n",
       "      <td>NaN</td>\n",
       "      <td>3770.438284</td>\n",
       "      <td>21.338320</td>\n",
       "      <td>251.481798</td>\n",
       "    </tr>\n",
       "  </tbody>\n",
       "</table>\n",
       "</div>"
      ],
      "text/plain": [
       "                      Date       bitcoin          xrp     ethereum\n",
       "count                 2412   2412.000000  2412.000000  2412.000000\n",
       "mean   2016-08-15 12:00:00   3023.498777     4.529477   263.434610\n",
       "min    2013-04-28 00:00:00     68.430000     0.002810     0.434829\n",
       "25%    2014-12-21 18:00:00    375.312500     0.006636    46.335000\n",
       "50%    2016-08-15 12:00:00    701.945000     0.015880   211.345000\n",
       "75%    2018-04-10 06:00:00   5756.890000     0.316083   378.157500\n",
       "max    2019-12-04 00:00:00  19497.400000   144.540000  1396.420000\n",
       "std                    NaN   3770.438284    21.338320   251.481798"
      ]
     },
     "execution_count": 29,
     "metadata": {},
     "output_type": "execute_result"
    }
   ],
   "source": [
    "df_merge.describe()"
   ]
  },
  {
   "cell_type": "markdown",
   "id": "5c69c8e4",
   "metadata": {},
   "source": [
    "# Usando loc e iloc para seleccionar filas y columnas"
   ]
  },
  {
   "cell_type": "code",
   "execution_count": 30,
   "id": "14ff9eef",
   "metadata": {
    "vscode": {
     "languageId": "ruby"
    }
   },
   "outputs": [
    {
     "name": "stdout",
     "output_type": "stream",
     "text": [
      "Ejemplo con loc:\n",
      "        Date  bitcoin\n",
      "0 2019-12-04  7252.03\n",
      "\n",
      "Ejemplo con iloc:\n",
      "        Date  bitcoin\n",
      "0 2019-12-04  7252.03\n",
      "1 2019-12-03  7320.15\n",
      "2 2019-12-02  7321.99\n",
      "3 2019-12-01  7424.29\n",
      "4 2019-11-30  7569.63\n"
     ]
    }
   ],
   "source": [
    "# Usando loc para seleccionar filas por etiquetas y columnas específicas\n",
    "# Seleccionamos las filas donde la fecha es \"2019-12-04\" y las columnas \"Date\" y \"bitcoin\"\n",
    "example_loc = df_merge.loc[df_merge[\"Date\"] == \"2019-12-04\", [\"Date\", \"bitcoin\"]]\n",
    "print(\"Ejemplo con loc:\")\n",
    "print(example_loc)\n",
    "\n",
    "# Usando iloc para seleccionar filas y columnas por índices\n",
    "# Seleccionamos las primeras 5 filas y las primeras 2 columnas\n",
    "example_iloc = df_merge.iloc[:5, :2]\n",
    "print(\"\\nEjemplo con iloc:\")\n",
    "print(example_iloc)"
   ]
  },
  {
   "cell_type": "markdown",
   "id": "d4abf631-18ea-4ebb-8b4d-a0a783c5112e",
   "metadata": {},
   "source": [
    "## Finalmente, exporte `df_merge` a un archivo Excel"
   ]
  },
  {
   "cell_type": "code",
   "execution_count": null,
   "id": "36416c2c-2c76-415d-8e8e-e7625fc135af",
   "metadata": {
    "tags": []
   },
   "outputs": [],
   "source": [
    "df_merge.to_excel(\"df_merge.xlsx\")"
   ]
  }
 ],
 "metadata": {
  "kernelspec": {
   "display_name": "Python 3 (ipykernel)",
   "language": "python",
   "name": "python3"
  },
  "language_info": {
   "codemirror_mode": {
    "name": "ipython",
    "version": 3
   },
   "file_extension": ".py",
   "mimetype": "text/x-python",
   "name": "python",
   "nbconvert_exporter": "python",
   "pygments_lexer": "ipython3",
   "version": "3.13.8"
  }
 },
 "nbformat": 4,
 "nbformat_minor": 5
}
